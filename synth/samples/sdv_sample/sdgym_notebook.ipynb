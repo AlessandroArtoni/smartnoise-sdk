{
 "cells": [
  {
   "cell_type": "markdown",
   "id": "2fb5a108",
   "metadata": {},
   "source": [
    "## Benchmarking Smartnoise synthesizers with SDGym "
   ]
  },
  {
   "cell_type": "code",
   "execution_count": 1,
   "id": "5d252b21",
   "metadata": {},
   "outputs": [],
   "source": [
    "import numpy as np\n",
    "import pandas as pd\n",
    "\n",
    "import sdmetrics\n",
    "\n",
    "from snsynth import MWEMSynthesizer\n",
    "from snsynth.pytorch.nn import DPCTGAN, PATECTGAN\n",
    "from snsynth.preprocessors import GeneralTransformer\n",
    "from snsynth.pytorch import PytorchDPSynthesizer\n",
    "\n",
    "import utils"
   ]
  },
  {
   "cell_type": "code",
   "execution_count": 2,
   "id": "dd484085",
   "metadata": {},
   "outputs": [],
   "source": [
    "df, df_non_continuous, sample_size = utils.retrieve_PUMS_data_categorical()"
   ]
  },
  {
   "cell_type": "code",
   "execution_count": 3,
   "id": "ae2fd949",
   "metadata": {},
   "outputs": [],
   "source": [
    "meta = utils.return_PUMS_metadata()"
   ]
  },
  {
   "cell_type": "code",
   "execution_count": 4,
   "id": "9cf91943",
   "metadata": {},
   "outputs": [
    {
     "name": "stderr",
     "output_type": "stream",
     "text": [
      "/Users/lucasrosenblatt/opt/miniconda3/envs/smartnoise-clones/lib/python3.8/site-packages/opacus/privacy_engine.py:638: UserWarning: The sample rate will be defined from ``batch_size`` and ``sample_size``.The returned privacy budget will be incorrect.\n",
      "  warnings.warn(\n",
      "/Users/lucasrosenblatt/opt/miniconda3/envs/smartnoise-clones/lib/python3.8/site-packages/opacus/privacy_engine.py:229: UserWarning: Secure RNG turned off. This is perfectly fine for experimentation as it allows for much faster training performance, but remember to turn it on and retrain one last time before production with ``secure_rng`` turned on.\n",
      "  warnings.warn(\n",
      "/Users/lucasrosenblatt/opt/miniconda3/envs/smartnoise-clones/lib/python3.8/site-packages/torch/nn/modules/module.py:1025: UserWarning: Using a non-full backward hook when the forward contains multiple autograd Nodes is deprecated and will be removed in future versions. This hook will be missing some grad_input. Please use register_full_backward_hook to get the documented behavior.\n",
      "  warnings.warn(\"Using a non-full backward hook when the forward contains multiple autograd Nodes \"\n"
     ]
    },
    {
     "name": "stdout",
     "output_type": "stream",
     "text": [
      "Epoch 1, Loss G: 0.6701, Loss D: 1.3862\n",
      "epsilon is 0.08429801659035999, alpha is 63.0\n",
      "Epoch 2, Loss G: 0.6677, Loss D: 1.3897\n",
      "epsilon is 0.8159572645684117, alpha is 17.0\n"
     ]
    }
   ],
   "source": [
    "patectgan = PytorchDPSynthesizer(1.0, PATECTGAN(), None)\n",
    "dpctgan = PytorchDPSynthesizer(1.0, DPCTGAN(), None)\n",
    "\n",
    "dpctgan.fit(df_non_continuous, categorical_columns=['sex','educ','race','married'])\n",
    "patectgan.fit(df_non_continuous, categorical_columns=['sex','educ','race','married'])\n",
    "\n",
    "synth_data_dpctgan = dpctgan.sample(sample_size)\n",
    "synth_data_patectgan = patectgan.sample(sample_size)\n",
    "\n",
    "# Note that most SDMetrics metrics require a unique sample id. Here we add this\n",
    "# back to the data after synthesizing.\n",
    "synth_data_dpctgan['pid'] = df['pid']\n",
    "synth_data_patectgan['pid'] = df['pid']\n",
    "df_non_continuous['pid'] = df['pid']\n",
    "\n",
    "data_real = {'pums': df_non_continuous}\n",
    "data_synth_patectgan = {'pums': synth_data_patectgan}\n",
    "data_synth_dpctgan = {'pums': synth_data_dpctgan}"
   ]
  },
  {
   "cell_type": "markdown",
   "id": "8cf62789",
   "metadata": {},
   "source": [
    "### Benchmarking against other synthesizers"
   ]
  },
  {
   "cell_type": "code",
   "execution_count": 7,
   "id": "ac31c0e8",
   "metadata": {},
   "outputs": [],
   "source": [
    "def patectgan_synthesizer_function(real_data, metadata):\n",
    "    patectgan = PytorchDPSynthesizer(1.0, PATECTGAN(), None)\n",
    "    patectgan.fit(real_data, categorical_columns=['sex','educ','race','married'])\n",
    "    sample_size = len(real_data)\n",
    "    synth_data_patectgan = patectgan.sample(sample_size)\n",
    "    return synth_data_patectgan"
   ]
  },
  {
   "cell_type": "code",
   "execution_count": null,
   "id": "09d59e76",
   "metadata": {},
   "outputs": [],
   "source": []
  }
 ],
 "metadata": {
  "kernelspec": {
   "display_name": "Python 3 (ipykernel)",
   "language": "python",
   "name": "python3"
  },
  "language_info": {
   "codemirror_mode": {
    "name": "ipython",
    "version": 3
   },
   "file_extension": ".py",
   "mimetype": "text/x-python",
   "name": "python",
   "nbconvert_exporter": "python",
   "pygments_lexer": "ipython3",
   "version": "3.8.12"
  }
 },
 "nbformat": 4,
 "nbformat_minor": 5
}
