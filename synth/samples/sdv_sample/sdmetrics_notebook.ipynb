{
 "cells": [
  {
   "cell_type": "markdown",
   "metadata": {},
   "source": [
    "## Evaluating Smartnoise Synthesizers with SDMetrics\n",
    "Below we will show a simple example of how to evaluate Smartnoise synthetic data using the existing Multi-table metrics from SDV's SDMetrics. "
   ]
  },
  {
   "cell_type": "code",
   "execution_count": 1,
   "metadata": {},
   "outputs": [],
   "source": [
    "import numpy as np\n",
    "import pandas as pd\n",
    "\n",
    "import sdmetrics\n",
    "\n",
    "from snsynth import MWEMSynthesizer\n",
    "from snsynth.pytorch.nn import DPCTGAN, PATECTGAN\n",
    "from snsynth.preprocessors import GeneralTransformer\n",
    "from snsynth.pytorch import PytorchDPSynthesizer\n",
    "\n",
    "import utils"
   ]
  },
  {
   "cell_type": "code",
   "execution_count": 2,
   "metadata": {},
   "outputs": [],
   "source": [
    "df, df_non_continuous, sample_size = utils.retrieve_PUMS_data_categorical()"
   ]
  },
  {
   "cell_type": "code",
   "execution_count": 3,
   "metadata": {},
   "outputs": [
    {
     "name": "stderr",
     "output_type": "stream",
     "text": [
      "/Users/lucasrosenblatt/opt/miniconda3/envs/smartnoise-clones/lib/python3.8/site-packages/opacus/privacy_engine.py:638: UserWarning: The sample rate will be defined from ``batch_size`` and ``sample_size``.The returned privacy budget will be incorrect.\n",
      "  warnings.warn(\n",
      "/Users/lucasrosenblatt/opt/miniconda3/envs/smartnoise-clones/lib/python3.8/site-packages/opacus/privacy_engine.py:229: UserWarning: Secure RNG turned off. This is perfectly fine for experimentation as it allows for much faster training performance, but remember to turn it on and retrain one last time before production with ``secure_rng`` turned on.\n",
      "  warnings.warn(\n",
      "/Users/lucasrosenblatt/opt/miniconda3/envs/smartnoise-clones/lib/python3.8/site-packages/torch/nn/modules/module.py:1025: UserWarning: Using a non-full backward hook when the forward contains multiple autograd Nodes is deprecated and will be removed in future versions. This hook will be missing some grad_input. Please use register_full_backward_hook to get the documented behavior.\n",
      "  warnings.warn(\"Using a non-full backward hook when the forward contains multiple autograd Nodes \"\n"
     ]
    },
    {
     "name": "stdout",
     "output_type": "stream",
     "text": [
      "Epoch 1, Loss G: 0.6681, Loss D: 1.3895\n",
      "epsilon is 0.08429801659035999, alpha is 63.0\n",
      "Epoch 2, Loss G: 0.6693, Loss D: 1.3889\n",
      "epsilon is 0.8159572645684117, alpha is 17.0\n"
     ]
    }
   ],
   "source": [
    "patectgan = PytorchDPSynthesizer(1.0, PATECTGAN(), None)\n",
    "dpctgan = PytorchDPSynthesizer(1.0, DPCTGAN(), None)\n",
    "\n",
    "dpctgan.fit(df_non_continuous, categorical_columns=['sex','educ','race','married'])\n",
    "patectgan.fit(df_non_continuous, categorical_columns=['sex','educ','race','married'])\n",
    "\n",
    "synth_data_dpctgan = dpctgan.sample(sample_size)\n",
    "synth_data_patectgan = patectgan.sample(sample_size)\n",
    "\n",
    "# Note that most SDMetrics metrics require a unique sample id. Here we add this\n",
    "# back to the data after synthesizing.\n",
    "synth_data_dpctgan['pid'] = df['pid']\n",
    "synth_data_patectgan['pid'] = df['pid']\n",
    "df_non_continuous['pid'] = df['pid']\n",
    "\n",
    "data_real = {'pums': df_non_continuous}\n",
    "data_synth_patectgan = {'pums': synth_data_patectgan}\n",
    "data_synth_dpctgan = {'pums': synth_data_dpctgan}"
   ]
  },
  {
   "cell_type": "markdown",
   "metadata": {},
   "source": [
    "### Metadata\n",
    "Please refer to the following SDV documentation when creating the SDMetric metadata for your dataset: https://sdv.dev/SDV/developer_guides/sdv/metadata.html\n",
    "\n",
    "Note that if your metadata is incorrect, you are likely to see an error when running your experiments."
   ]
  },
  {
   "cell_type": "code",
   "execution_count": 4,
   "metadata": {},
   "outputs": [],
   "source": [
    "meta = utils.return_PUMS_metadata()"
   ]
  },
  {
   "cell_type": "code",
   "execution_count": 5,
   "metadata": {},
   "outputs": [
    {
     "data": {
      "text/html": [
       "<div>\n",
       "<style scoped>\n",
       "    .dataframe tbody tr th:only-of-type {\n",
       "        vertical-align: middle;\n",
       "    }\n",
       "\n",
       "    .dataframe tbody tr th {\n",
       "        vertical-align: top;\n",
       "    }\n",
       "\n",
       "    .dataframe thead th {\n",
       "        text-align: right;\n",
       "    }\n",
       "</style>\n",
       "<table border=\"1\" class=\"dataframe\">\n",
       "  <thead>\n",
       "    <tr style=\"text-align: right;\">\n",
       "      <th></th>\n",
       "      <th>metric</th>\n",
       "      <th>name</th>\n",
       "      <th>raw_score</th>\n",
       "      <th>normalized_score</th>\n",
       "      <th>min_value</th>\n",
       "      <th>max_value</th>\n",
       "      <th>goal</th>\n",
       "      <th>error</th>\n",
       "    </tr>\n",
       "  </thead>\n",
       "  <tbody>\n",
       "    <tr>\n",
       "      <th>0</th>\n",
       "      <td>CSTest</td>\n",
       "      <td>Chi-Squared</td>\n",
       "      <td>0.732815</td>\n",
       "      <td>0.732815</td>\n",
       "      <td>0.0</td>\n",
       "      <td>1.0</td>\n",
       "      <td>MAXIMIZE</td>\n",
       "      <td>None</td>\n",
       "    </tr>\n",
       "    <tr>\n",
       "      <th>1</th>\n",
       "      <td>KSTest</td>\n",
       "      <td>Inverted Kolmogorov-Smirnov D statistic</td>\n",
       "      <td>NaN</td>\n",
       "      <td>NaN</td>\n",
       "      <td>0.0</td>\n",
       "      <td>1.0</td>\n",
       "      <td>MAXIMIZE</td>\n",
       "      <td>Cannot find fields of types ('numerical',)</td>\n",
       "    </tr>\n",
       "    <tr>\n",
       "      <th>2</th>\n",
       "      <td>KSTestExtended</td>\n",
       "      <td>Inverted Kolmogorov-Smirnov D statistic</td>\n",
       "      <td>0.822250</td>\n",
       "      <td>0.822250</td>\n",
       "      <td>0.0</td>\n",
       "      <td>1.0</td>\n",
       "      <td>MAXIMIZE</td>\n",
       "      <td>None</td>\n",
       "    </tr>\n",
       "    <tr>\n",
       "      <th>3</th>\n",
       "      <td>LogisticDetection</td>\n",
       "      <td>LogisticRegression Detection</td>\n",
       "      <td>0.486655</td>\n",
       "      <td>0.486655</td>\n",
       "      <td>0.0</td>\n",
       "      <td>1.0</td>\n",
       "      <td>MAXIMIZE</td>\n",
       "      <td>None</td>\n",
       "    </tr>\n",
       "    <tr>\n",
       "      <th>4</th>\n",
       "      <td>SVCDetection</td>\n",
       "      <td>SVC Detection</td>\n",
       "      <td>0.367662</td>\n",
       "      <td>0.367662</td>\n",
       "      <td>0.0</td>\n",
       "      <td>1.0</td>\n",
       "      <td>MAXIMIZE</td>\n",
       "      <td>None</td>\n",
       "    </tr>\n",
       "    <tr>\n",
       "      <th>5</th>\n",
       "      <td>BNLikelihood</td>\n",
       "      <td>BayesianNetwork Likelihood</td>\n",
       "      <td>0.002601</td>\n",
       "      <td>0.002601</td>\n",
       "      <td>0.0</td>\n",
       "      <td>1.0</td>\n",
       "      <td>MAXIMIZE</td>\n",
       "      <td>None</td>\n",
       "    </tr>\n",
       "    <tr>\n",
       "      <th>6</th>\n",
       "      <td>BNLogLikelihood</td>\n",
       "      <td>BayesianNetwork Log Likelihood</td>\n",
       "      <td>NaN</td>\n",
       "      <td>NaN</td>\n",
       "      <td>-inf</td>\n",
       "      <td>0.0</td>\n",
       "      <td>MAXIMIZE</td>\n",
       "      <td></td>\n",
       "    </tr>\n",
       "    <tr>\n",
       "      <th>7</th>\n",
       "      <td>LogisticParentChildDetection</td>\n",
       "      <td>LogisticRegression Detection</td>\n",
       "      <td>NaN</td>\n",
       "      <td>NaN</td>\n",
       "      <td>0.0</td>\n",
       "      <td>1.0</td>\n",
       "      <td>MAXIMIZE</td>\n",
       "      <td>No foreign keys given</td>\n",
       "    </tr>\n",
       "    <tr>\n",
       "      <th>8</th>\n",
       "      <td>SVCParentChildDetection</td>\n",
       "      <td>SVC Detection</td>\n",
       "      <td>NaN</td>\n",
       "      <td>NaN</td>\n",
       "      <td>0.0</td>\n",
       "      <td>1.0</td>\n",
       "      <td>MAXIMIZE</td>\n",
       "      <td>No foreign keys given</td>\n",
       "    </tr>\n",
       "  </tbody>\n",
       "</table>\n",
       "</div>"
      ],
      "text/plain": [
       "                         metric                                     name  \\\n",
       "0                        CSTest                              Chi-Squared   \n",
       "1                        KSTest  Inverted Kolmogorov-Smirnov D statistic   \n",
       "2                KSTestExtended  Inverted Kolmogorov-Smirnov D statistic   \n",
       "3             LogisticDetection             LogisticRegression Detection   \n",
       "4                  SVCDetection                            SVC Detection   \n",
       "5                  BNLikelihood               BayesianNetwork Likelihood   \n",
       "6               BNLogLikelihood           BayesianNetwork Log Likelihood   \n",
       "7  LogisticParentChildDetection             LogisticRegression Detection   \n",
       "8       SVCParentChildDetection                            SVC Detection   \n",
       "\n",
       "   raw_score  normalized_score  min_value  max_value      goal  \\\n",
       "0   0.732815          0.732815        0.0        1.0  MAXIMIZE   \n",
       "1        NaN               NaN        0.0        1.0  MAXIMIZE   \n",
       "2   0.822250          0.822250        0.0        1.0  MAXIMIZE   \n",
       "3   0.486655          0.486655        0.0        1.0  MAXIMIZE   \n",
       "4   0.367662          0.367662        0.0        1.0  MAXIMIZE   \n",
       "5   0.002601          0.002601        0.0        1.0  MAXIMIZE   \n",
       "6        NaN               NaN       -inf        0.0  MAXIMIZE   \n",
       "7        NaN               NaN        0.0        1.0  MAXIMIZE   \n",
       "8        NaN               NaN        0.0        1.0  MAXIMIZE   \n",
       "\n",
       "                                        error  \n",
       "0                                        None  \n",
       "1  Cannot find fields of types ('numerical',)  \n",
       "2                                        None  \n",
       "3                                        None  \n",
       "4                                        None  \n",
       "5                                        None  \n",
       "6                                              \n",
       "7                       No foreign keys given  \n",
       "8                       No foreign keys given  "
      ]
     },
     "execution_count": 5,
     "metadata": {},
     "output_type": "execute_result"
    }
   ],
   "source": [
    "metrics = sdmetrics.multi_table.MultiTableMetric.get_subclasses()\n",
    "\n",
    "# Run all the compatible metrics and get a report\n",
    "sdmetrics.compute_metrics(metrics, data_real, data_synth_patectgan, metadata=meta)\n",
    "sdmetrics.compute_metrics(metrics, data_real, data_synth_dpctgan, metadata=meta)"
   ]
  },
  {
   "cell_type": "code",
   "execution_count": 6,
   "metadata": {},
   "outputs": [
    {
     "data": {
      "text/plain": [
       "0.8365"
      ]
     },
     "execution_count": 6,
     "metadata": {},
     "output_type": "execute_result"
    }
   ],
   "source": [
    "from sdv.metrics.relational import KSTestExtended\n",
    "\n",
    "KSTestExtended.compute(data_real, data_synth_patectgan, metadata=meta)"
   ]
  }
 ],
 "metadata": {
  "kernelspec": {
   "display_name": "Python 3 (ipykernel)",
   "language": "python",
   "name": "python3"
  },
  "language_info": {
   "codemirror_mode": {
    "name": "ipython",
    "version": 3
   },
   "file_extension": ".py",
   "mimetype": "text/x-python",
   "name": "python",
   "nbconvert_exporter": "python",
   "pygments_lexer": "ipython3",
   "version": "3.8.12"
  }
 },
 "nbformat": 4,
 "nbformat_minor": 2
}
