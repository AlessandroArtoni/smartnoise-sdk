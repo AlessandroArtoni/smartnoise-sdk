{
 "cells": [
  {
   "cell_type": "code",
   "execution_count": 1,
   "metadata": {},
   "outputs": [],
   "source": [
    "import numpy as np\n",
    "import pandas as pd\n",
    "\n",
    "\n",
    "TEST_DATA_INDEX = [4, 6, 3, 8, 'a', 1.0, 2.0, 3.0]\n",
    "\n",
    "def get_input_data():\n",
    "    data = pd.DataFrame({\n",
    "        'integer': [1, 2, 1, 3, 1, 4, 2, 3],\n",
    "        'float': [0.1, 0.2, 0.1, np.nan, 0.1, 0.4, np.nan, 0.3],\n",
    "        'categorical': ['a', 'a', np.nan, 'b', 'a', 'b', 'a', 'a'],\n",
    "    }, index=TEST_DATA_INDEX)\n",
    "\n",
    "    return data\n",
    "\n",
    "def get_transformed_data():\n",
    "    return pd.DataFrame({\n",
    "        'integer.value': [1, 2, 1, 3, 1, 4, 2, 3],\n",
    "        'float.value': [0.1, 0.2, 0.1, 0.2, 0.1, 0.4, 0.2, 0.3],\n",
    "        'float.is_null': [0.0, 0.0, 0.0, 1.0, 0.0, 0.0, 1.0, 0.0],\n",
    "        'categorical.value': [0, 0, 1, 2, 0, 2, 0, 0],\n",
    "    }, index=TEST_DATA_INDEX)\n",
    "    return None\n",
    "\n",
    "def get_label_encoded_data():\n",
    "    return pd.DataFrame({\n",
    "        'categorical.value': [0, 0, 1, 2, 0, 2, 0, 0],\n",
    "        'integer.value': [1, 2, 1, 3, 1, 4, 2, 3],\n",
    "        'float.value': [0.1, 0.2, 0.1, 0.2, 0.1, 0.4, 0.2, 0.3],\n",
    "        'float.is_null': [0.0, 0.0, 0.0, 1.0, 0.0, 0.0, 1.0, 0.0],\n",
    "    }, index=TEST_DATA_INDEX)\n",
    "\n",
    "def get_one_hot_encoded_data():\n",
    "    return pd.DataFrame({\n",
    "        'categorical.value0': [1, 1, 0, 0, 1, 0, 1, 1],\n",
    "        'categorical.value1': [0, 0, 0, 1, 0, 1, 0, 0],\n",
    "        'categorical.value2': [0, 0, 1, 0, 0, 0, 0, 0],\n",
    "        'integer.value': [1, 2, 1, 3, 1, 4, 2, 3],\n",
    "        'float.value': [0.1, 0.2, 0.1, 0.2, 0.1, 0.4, 0.2, 0.3],\n",
    "        'float.is_null': [0.0, 0.0, 0.0, 1.0, 0.0, 0.0, 1.0, 0.0],\n",
    "    }, index=TEST_DATA_INDEX)\n"
   ]
  },
  {
   "cell_type": "code",
   "execution_count": 2,
   "metadata": {},
   "outputs": [],
   "source": [
    "from snsynth.sdv.rdt.transformers.categorical import LabelEncodingTransformer, OneHotEncodingTransformer\n",
    "from snsynth.sdv.rdt.hyper_transformer import HyperTransformer\n",
    "\n",
    "def test_label_encoding_transformers():\n",
    "    \"\"\"\n",
    "    Test LabelEncodingTransformer\n",
    "    \"\"\"\n",
    "    # Setup\n",
    "    field_transformers = {\n",
    "        'categorical': LabelEncodingTransformer,\n",
    "    }\n",
    "    data = get_input_data()\n",
    "\n",
    "    # Run\n",
    "    ht = HyperTransformer(field_transformers=field_transformers)\n",
    "    ht.fit(data)\n",
    "    transformed = ht.transform(data)\n",
    "    reverse_transformed = ht.reverse_transform(transformed)\n",
    "\n",
    "    # Assert\n",
    "    expected_transformed = get_label_encoded_data()\n",
    "    pd.testing.assert_frame_equal(transformed, expected_transformed)\n",
    "\n",
    "    expected_reversed = get_input_data()\n",
    "    pd.testing.assert_frame_equal(expected_reversed, reverse_transformed)\n",
    "\n",
    "def test_one_hot_encoding_transformers():\n",
    "    \"\"\"\n",
    "    Test LabelEncodingTransformer\n",
    "    \"\"\"\n",
    "    # Setup\n",
    "    field_transformers = {\n",
    "        'categorical': OneHotEncodingTransformer,\n",
    "    }\n",
    "    data = get_input_data()\n",
    "\n",
    "    # Run\n",
    "    ht = HyperTransformer(field_transformers=field_transformers)\n",
    "    ht.fit(data)\n",
    "    transformed = ht.transform(data)\n",
    "    reverse_transformed = ht.reverse_transform(transformed)\n",
    "    \n",
    "    # Assert\n",
    "    expected_transformed = get_one_hot_encoded_data()\n",
    "    pd.testing.assert_frame_equal(transformed, expected_transformed)\n",
    "\n",
    "    expected_reversed = get_input_data()\n",
    "    pd.testing.assert_frame_equal(expected_reversed, reverse_transformed)"
   ]
  },
  {
   "cell_type": "code",
   "execution_count": 3,
   "metadata": {},
   "outputs": [],
   "source": [
    "def test_dtype_category():\n",
    "    \"\"\"Test that categorical variables of dtype category are supported.\"\"\"\n",
    "    # Setup\n",
    "    data = pd.DataFrame({'a': ['a', 'b', 'c']}, dtype='category')\n",
    "\n",
    "    # Run\n",
    "    ht = HyperTransformer()\n",
    "    ht.fit(data)\n",
    "    transformed = ht.transform(data)\n",
    "    reverse = ht.reverse_transform(transformed)\n",
    "    print(transformed)\n",
    "    print(reverse)\n",
    "    # Assert\n",
    "    pd.testing.assert_frame_equal(reverse, data)\n",
    "\n",
    "def test_category_3():\n",
    "    pass\n",
    "    "
   ]
  },
  {
   "cell_type": "code",
   "execution_count": 4,
   "metadata": {},
   "outputs": [
    {
     "name": "stdout",
     "output_type": "stream",
     "text": [
      "    a.value\n",
      "0  0.749729\n",
      "1  0.584513\n",
      "2  0.121477\n",
      "   a\n",
      "0  a\n",
      "1  b\n",
      "2  c\n"
     ]
    }
   ],
   "source": [
    "test_dtype_category()"
   ]
  },
  {
   "cell_type": "code",
   "execution_count": 5,
   "metadata": {},
   "outputs": [],
   "source": [
    "test_label_encoding_transformers()"
   ]
  },
  {
   "cell_type": "code",
   "execution_count": 6,
   "metadata": {},
   "outputs": [],
   "source": [
    "test_one_hot_encoding_transformers()"
   ]
  },
  {
   "cell_type": "code",
   "execution_count": null,
   "metadata": {},
   "outputs": [],
   "source": []
  }
 ],
 "metadata": {
  "interpreter": {
   "hash": "6cd4b3fd4e5c607306fa5e29961c0ad8413406e33c37dcc9146850a4a7bdf658"
  },
  "kernelspec": {
   "display_name": "Python 3.8.12 64-bit ('smartnoise-clones': conda)",
   "language": "python",
   "name": "python3"
  },
  "language_info": {
   "codemirror_mode": {
    "name": "ipython",
    "version": 3
   },
   "file_extension": ".py",
   "mimetype": "text/x-python",
   "name": "python",
   "nbconvert_exporter": "python",
   "pygments_lexer": "ipython3",
   "version": "3.8.12"
  },
  "orig_nbformat": 4
 },
 "nbformat": 4,
 "nbformat_minor": 2
}
